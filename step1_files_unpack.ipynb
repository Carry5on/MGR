{
 "cells": [
  {
   "cell_type": "markdown",
   "id": "5b4a0cbb",
   "metadata": {},
   "source": [
    "Źródło danych: https://danepubliczne.imgw.pl/data/dane_pomiarowo_obserwacyjne/\n",
    "\n",
    "dane dobowe\n",
    "\n",
    "dane meteorologiczne: klimat\n",
    "\n",
    "dane hydrologiczne\n",
    "\n",
    "lata 2021-2023"
   ]
  },
  {
   "cell_type": "markdown",
   "id": "4ee5f361",
   "metadata": {},
   "source": [
    "### klimat"
   ]
  },
  {
   "cell_type": "code",
   "execution_count": 8,
   "id": "cde2c6e0",
   "metadata": {},
   "outputs": [],
   "source": [
    "from zipfile import ZipFile \n",
    "\n",
    "lata = [\"2021\", \"2022\", \"2023\"]\n",
    "miesiace = [\"01\", \"02\", \"03\", \"04\", \"05\", \"06\", \"07\", \"08\", \"09\", \"10\", \"11\", \"12\"]\n",
    "\n",
    "for rok in lata:\n",
    "    for mc in miesiace:\n",
    "    # loading zip file and creating a zip object \n",
    "        with ZipFile(f\"dane\\\\main data\\\\klimat 2021-2023\\\\zips\\\\{rok}_{mc}_k.zip\", 'r') as zipObject: \n",
    "\n",
    "            # Extracting specific file in the zip \n",
    "            # into a specific location. \n",
    "            zipObject.extract( \n",
    "                f\"k_d_{mc}_{rok}.csv\", \\\n",
    "                path=f\"dane\\\\main data\\\\klimat 2021-2023\\\\unzipped\") \n",
    "            zipObject.close() "
   ]
  },
  {
   "cell_type": "markdown",
   "id": "15387953",
   "metadata": {},
   "source": [
    "### hydro"
   ]
  },
  {
   "cell_type": "code",
   "execution_count": 7,
   "id": "24149693",
   "metadata": {},
   "outputs": [],
   "source": [
    "from zipfile import ZipFile \n",
    "\n",
    "lata = [\"2021\", \"2022\"] #od 2023 mamy jeden zbiorczy plik csv, stąd rozpakowujemy tylko 2 lata\n",
    "miesiace = [\"01\", \"02\", \"03\", \"04\", \"05\", \"06\", \"07\", \"08\", \"09\", \"10\", \"11\", \"12\"]\n",
    "\n",
    "for rok in lata:\n",
    "    for mc in miesiace:\n",
    "    # loading zip file and creating a zip object \n",
    "        with ZipFile(f\"dane\\\\main data\\\\hydro 2021-2023\\\\zips\\\\codz_{rok}_{mc}.zip\", 'r') as zipObject: \n",
    "\n",
    "            # Extracting specific file in the zip \n",
    "            # into a specific location. \n",
    "            zipObject.extract( \n",
    "                f\"codz_{rok}_{mc}.csv\", path=f\"dane\\\\main data\\\\hydro 2021-2023\\\\unzipped\") \n",
    "            zipObject.close() \n",
    "            "
   ]
  }
 ],
 "metadata": {
  "kernelspec": {
   "display_name": "Python 3 (ipykernel)",
   "language": "python",
   "name": "python3"
  },
  "language_info": {
   "codemirror_mode": {
    "name": "ipython",
    "version": 3
   },
   "file_extension": ".py",
   "mimetype": "text/x-python",
   "name": "python",
   "nbconvert_exporter": "python",
   "pygments_lexer": "ipython3",
   "version": "3.10.9"
  }
 },
 "nbformat": 4,
 "nbformat_minor": 5
}
